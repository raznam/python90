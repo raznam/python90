{
 "cells": [
  {
   "cell_type": "markdown",
   "id": "19c2bb9e",
   "metadata": {},
   "source": [
    "Day 2"
   ]
  },
  {
   "cell_type": "markdown",
   "id": "67747538",
   "metadata": {},
   "source": [
    "# Variables and Datatypes"
   ]
  },
  {
   "cell_type": "code",
   "execution_count": 1,
   "id": "9057a288",
   "metadata": {},
   "outputs": [
    {
     "name": "stdout",
     "output_type": "stream",
     "text": [
      "This my second Python class\n"
     ]
    }
   ],
   "source": [
    "a=\"This my second Python class\"\n",
    "print(a) #string datatype"
   ]
  },
  {
   "cell_type": "code",
   "execution_count": 2,
   "id": "4c76d5f0",
   "metadata": {},
   "outputs": [
    {
     "name": "stdout",
     "output_type": "stream",
     "text": [
      "55\n"
     ]
    }
   ],
   "source": [
    "b=55\n",
    "print(b) #integer datatype"
   ]
  },
  {
   "cell_type": "code",
   "execution_count": 3,
   "id": "96ef6782",
   "metadata": {},
   "outputs": [
    {
     "name": "stdout",
     "output_type": "stream",
     "text": [
      "22.34\n"
     ]
    }
   ],
   "source": [
    "c=22.34\n",
    "print(c) #float datatype"
   ]
  },
  {
   "cell_type": "code",
   "execution_count": 9,
   "id": "4ac2bbda",
   "metadata": {},
   "outputs": [
    {
     "name": "stdout",
     "output_type": "stream",
     "text": [
      "[1, 2, 3, 4, 5]\n",
      "['hello', 'c', 'pink']\n",
      "['hi', 2.5, 10, 'a']\n"
     ]
    }
   ],
   "source": [
    "d=[1,2,3,4,5]\n",
    "print(d) #list datatype \n",
    "d1=['hello', 'c','pink']\n",
    "print(d1)\n",
    "d2=['hi', 2.5, 10, 'a']\n",
    "print(d2)\n",
    "#list are mutable i.e, can be changed"
   ]
  },
  {
   "cell_type": "code",
   "execution_count": 6,
   "id": "dc301437",
   "metadata": {},
   "outputs": [
    {
     "name": "stdout",
     "output_type": "stream",
     "text": [
      "(1, 'fool', 22.3, 16)\n"
     ]
    }
   ],
   "source": [
    "e=(1,'fool',22.3, 16)\n",
    "print(e) #tuple datatype\n",
    "#tuples are immutable i.e, cannot be changed"
   ]
  },
  {
   "cell_type": "code",
   "execution_count": null,
   "id": "bd30501e",
   "metadata": {},
   "outputs": [],
   "source": []
  }
 ],
 "metadata": {
  "kernelspec": {
   "display_name": "Python 3 (ipykernel)",
   "language": "python",
   "name": "python3"
  },
  "language_info": {
   "codemirror_mode": {
    "name": "ipython",
    "version": 3
   },
   "file_extension": ".py",
   "mimetype": "text/x-python",
   "name": "python",
   "nbconvert_exporter": "python",
   "pygments_lexer": "ipython3",
   "version": "3.10.9"
  }
 },
 "nbformat": 4,
 "nbformat_minor": 5
}
