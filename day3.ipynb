{
 "cells": [
  {
   "cell_type": "markdown",
   "id": "2c49d8d7",
   "metadata": {},
   "source": [
    "# Day 3"
   ]
  },
  {
   "cell_type": "markdown",
   "id": "a90ca274",
   "metadata": {},
   "source": [
    "Built-in Function"
   ]
  },
  {
   "cell_type": "markdown",
   "id": "e0111336",
   "metadata": {},
   "source": [
    "abs() Function"
   ]
  },
  {
   "cell_type": "code",
   "execution_count": 5,
   "id": "3e20ee7b",
   "metadata": {},
   "outputs": [
    {
     "name": "stdout",
     "output_type": "stream",
     "text": [
      "7.25 3.1234 2 5.385164807134504\n"
     ]
    }
   ],
   "source": [
    "x=abs(-7.25)\n",
    "y=abs(3.1234)\n",
    "z=abs(-2)\n",
    "c=abs(2+5j) #complex number\n",
    "print(x,y,z,c)"
   ]
  },
  {
   "cell_type": "markdown",
   "id": "eeb6d91b",
   "metadata": {},
   "source": [
    "Binary Function bin()"
   ]
  },
  {
   "cell_type": "code",
   "execution_count": 8,
   "id": "59c06771",
   "metadata": {},
   "outputs": [
    {
     "name": "stdout",
     "output_type": "stream",
     "text": [
      "0b11001 0b11110000001000111110\n"
     ]
    }
   ],
   "source": [
    "a=bin(25)\n",
    "b=bin(983614)\n",
    "print(a,b)"
   ]
  },
  {
   "cell_type": "markdown",
   "id": "fca484f7",
   "metadata": {},
   "source": [
    "# Python byte function"
   ]
  },
  {
   "cell_type": "code",
   "execution_count": 12,
   "id": "70d0595a",
   "metadata": {},
   "outputs": [
    {
     "name": "stdout",
     "output_type": "stream",
     "text": [
      "b'\\x00\\x00\\x00\\x00'\n",
      "b'\\x00\\x00\\x00\\x00\\x00\\x00\\x00\\x00\\x00\\x00\\x00\\x00\\x00\\x00\\x00\\x00'\n"
     ]
    }
   ],
   "source": [
    "x=bytes(4)\n",
    "y=bytes(16)\n",
    "print(x)\n",
    "print(y)"
   ]
  },
  {
   "cell_type": "markdown",
   "id": "009ce4cc",
   "metadata": {},
   "source": [
    "Python chr() Function"
   ]
  },
  {
   "cell_type": "code",
   "execution_count": 16,
   "id": "10e4abc8",
   "metadata": {},
   "outputs": [
    {
     "name": "stdout",
     "output_type": "stream",
     "text": [
      "  a D\n"
     ]
    }
   ],
   "source": [
    "q=chr(68)\n",
    "x=chr(32)\n",
    "y=chr(97)\n",
    "print(x,y,q)"
   ]
  },
  {
   "cell_type": "markdown",
   "id": "666f02de",
   "metadata": {},
   "source": [
    "Complex() Function"
   ]
  },
  {
   "cell_type": "code",
   "execution_count": 18,
   "id": "66f314b8",
   "metadata": {},
   "outputs": [
    {
     "name": "stdout",
     "output_type": "stream",
     "text": [
      "(5+2j) (2.7+5.2j)\n"
     ]
    }
   ],
   "source": [
    "x=complex(5,2)\n",
    "y=complex(2.7,5.2)\n",
    "print(x,y)"
   ]
  },
  {
   "cell_type": "markdown",
   "id": "a5b25ab7",
   "metadata": {},
   "source": [
    "float function"
   ]
  },
  {
   "cell_type": "code",
   "execution_count": 19,
   "id": "7ac4f0a1",
   "metadata": {},
   "outputs": [
    {
     "name": "stdout",
     "output_type": "stream",
     "text": [
      "2.0\n"
     ]
    }
   ],
   "source": [
    "x=float(2)\n",
    "print(x)"
   ]
  },
  {
   "cell_type": "markdown",
   "id": "cc64ade6",
   "metadata": {},
   "source": [
    "Help function"
   ]
  },
  {
   "cell_type": "code",
   "execution_count": 22,
   "id": "6ee93cfc",
   "metadata": {},
   "outputs": [
    {
     "name": "stdout",
     "output_type": "stream",
     "text": [
      "Help on built-in function print in module builtins:\n",
      "\n",
      "print(...)\n",
      "    print(value, ..., sep=' ', end='\\n', file=sys.stdout, flush=False)\n",
      "    \n",
      "    Prints the values to a stream, or to sys.stdout by default.\n",
      "    Optional keyword arguments:\n",
      "    file:  a file-like object (stream); defaults to the current sys.stdout.\n",
      "    sep:   string inserted between values, default a space.\n",
      "    end:   string appended after the last value, default a newline.\n",
      "    flush: whether to forcibly flush the stream.\n",
      "\n"
     ]
    }
   ],
   "source": [
    "help(print)"
   ]
  },
  {
   "cell_type": "code",
   "execution_count": null,
   "id": "3f66b566",
   "metadata": {},
   "outputs": [],
   "source": []
  }
 ],
 "metadata": {
  "kernelspec": {
   "display_name": "Python 3 (ipykernel)",
   "language": "python",
   "name": "python3"
  },
  "language_info": {
   "codemirror_mode": {
    "name": "ipython",
    "version": 3
   },
   "file_extension": ".py",
   "mimetype": "text/x-python",
   "name": "python",
   "nbconvert_exporter": "python",
   "pygments_lexer": "ipython3",
   "version": "3.10.9"
  }
 },
 "nbformat": 4,
 "nbformat_minor": 5
}
