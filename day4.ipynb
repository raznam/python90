{
 "cells": [
  {
   "cell_type": "markdown",
   "id": "fbf3d4aa",
   "metadata": {},
   "source": [
    "# Day 3"
   ]
  },
  {
   "cell_type": "markdown",
   "id": "9228fe89",
   "metadata": {},
   "source": [
    "Built-in Function"
   ]
  },
  {
   "cell_type": "markdown",
   "id": "a6669383",
   "metadata": {},
   "source": [
    "abs() Function"
   ]
  },
  {
   "cell_type": "code",
   "execution_count": 5,
   "id": "2c4ec8c4",
   "metadata": {},
   "outputs": [
    {
     "name": "stdout",
     "output_type": "stream",
     "text": [
      "7.25 3.1234 2 5.385164807134504\n"
     ]
    }
   ],
   "source": [
    "x=abs(-7.25)\n",
    "y=abs(3.1234)\n",
    "z=abs(-2)\n",
    "c=abs(2+5j) #complex number\n",
    "print(x,y,z,c)"
   ]
  },
  {
   "cell_type": "markdown",
   "id": "b07fa5d9",
   "metadata": {},
   "source": [
    "Binary Function bin()"
   ]
  },
  {
   "cell_type": "code",
   "execution_count": 8,
   "id": "857cfcb3",
   "metadata": {},
   "outputs": [
    {
     "name": "stdout",
     "output_type": "stream",
     "text": [
      "0b11001 0b11110000001000111110\n"
     ]
    }
   ],
   "source": [
    "a=bin(25)\n",
    "b=bin(983614)\n",
    "print(a,b)"
   ]
  },
  {
   "cell_type": "markdown",
   "id": "b31b4966",
   "metadata": {},
   "source": [
    "# Python byte function"
   ]
  },
  {
   "cell_type": "code",
   "execution_count": 12,
   "id": "6085e72e",
   "metadata": {},
   "outputs": [
    {
     "name": "stdout",
     "output_type": "stream",
     "text": [
      "b'\\x00\\x00\\x00\\x00'\n",
      "b'\\x00\\x00\\x00\\x00\\x00\\x00\\x00\\x00\\x00\\x00\\x00\\x00\\x00\\x00\\x00\\x00'\n"
     ]
    }
   ],
   "source": [
    "x=bytes(4)\n",
    "y=bytes(16)\n",
    "print(x)\n",
    "print(y)"
   ]
  },
  {
   "cell_type": "markdown",
   "id": "8c560b61",
   "metadata": {},
   "source": [
    "Python chr() Function"
   ]
  },
  {
   "cell_type": "code",
   "execution_count": 16,
   "id": "59cf6471",
   "metadata": {},
   "outputs": [
    {
     "name": "stdout",
     "output_type": "stream",
     "text": [
      "  a D\n"
     ]
    }
   ],
   "source": [
    "q=chr(68)\n",
    "x=chr(32)\n",
    "y=chr(97)\n",
    "print(x,y,q)"
   ]
  },
  {
   "cell_type": "markdown",
   "id": "33a4a6ff",
   "metadata": {},
   "source": [
    "Complex() Function"
   ]
  },
  {
   "cell_type": "code",
   "execution_count": 18,
   "id": "53a861b9",
   "metadata": {},
   "outputs": [
    {
     "name": "stdout",
     "output_type": "stream",
     "text": [
      "(5+2j) (2.7+5.2j)\n"
     ]
    }
   ],
   "source": [
    "x=complex(5,2)\n",
    "y=complex(2.7,5.2)\n",
    "print(x,y)"
   ]
  },
  {
   "cell_type": "markdown",
   "id": "ed1dae84",
   "metadata": {},
   "source": [
    "float function"
   ]
  },
  {
   "cell_type": "code",
   "execution_count": 19,
   "id": "c347dddd",
   "metadata": {},
   "outputs": [
    {
     "name": "stdout",
     "output_type": "stream",
     "text": [
      "2.0\n"
     ]
    }
   ],
   "source": [
    "x=float(2)\n",
    "print(x)"
   ]
  },
  {
   "cell_type": "markdown",
   "id": "0816c4fc",
   "metadata": {},
   "source": [
    "Help function"
   ]
  },
  {
   "cell_type": "code",
   "execution_count": 22,
   "id": "a8b54fe1",
   "metadata": {},
   "outputs": [
    {
     "name": "stdout",
     "output_type": "stream",
     "text": [
      "Help on built-in function print in module builtins:\n",
      "\n",
      "print(...)\n",
      "    print(value, ..., sep=' ', end='\\n', file=sys.stdout, flush=False)\n",
      "    \n",
      "    Prints the values to a stream, or to sys.stdout by default.\n",
      "    Optional keyword arguments:\n",
      "    file:  a file-like object (stream); defaults to the current sys.stdout.\n",
      "    sep:   string inserted between values, default a space.\n",
      "    end:   string appended after the last value, default a newline.\n",
      "    flush: whether to forcibly flush the stream.\n",
      "\n"
     ]
    }
   ],
   "source": [
    "help(print)"
   ]
  },
  {
   "cell_type": "code",
   "execution_count": null,
   "id": "de690cbb",
   "metadata": {},
   "outputs": [],
   "source": []
  }
 ],
 "metadata": {
  "kernelspec": {
   "display_name": "Python 3 (ipykernel)",
   "language": "python",
   "name": "python3"
  },
  "language_info": {
   "codemirror_mode": {
    "name": "ipython",
    "version": 3
   },
   "file_extension": ".py",
   "mimetype": "text/x-python",
   "name": "python",
   "nbconvert_exporter": "python",
   "pygments_lexer": "ipython3",
   "version": "3.10.9"
  }
 },
 "nbformat": 4,
 "nbformat_minor": 5
}
