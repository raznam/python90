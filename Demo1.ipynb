{
 "cells": [
  {
   "cell_type": "markdown",
   "id": "ff96ffd9",
   "metadata": {},
   "source": [
    "My Python progam"
   ]
  },
  {
   "cell_type": "markdown",
   "id": "eccb33fe",
   "metadata": {},
   "source": [
    "# This is level Heading 1"
   ]
  },
  {
   "cell_type": "code",
   "execution_count": 1,
   "id": "4975be92",
   "metadata": {},
   "outputs": [
    {
     "name": "stdout",
     "output_type": "stream",
     "text": [
      "Hello World\n"
     ]
    }
   ],
   "source": [
    "print(\"Hello World\")"
   ]
  },
  {
   "cell_type": "code",
   "execution_count": null,
   "id": "b5162eee",
   "metadata": {},
   "outputs": [],
   "source": []
  }
 ],
 "metadata": {
  "kernelspec": {
   "display_name": "Python 3 (ipykernel)",
   "language": "python",
   "name": "python3"
  },
  "language_info": {
   "codemirror_mode": {
    "name": "ipython",
    "version": 3
   },
   "file_extension": ".py",
   "mimetype": "text/x-python",
   "name": "python",
   "nbconvert_exporter": "python",
   "pygments_lexer": "ipython3",
   "version": "3.10.9"
  }
 },
 "nbformat": 4,
 "nbformat_minor": 5
}
