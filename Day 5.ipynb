{
  "metadata": {
    "language_info": {
      "codemirror_mode": {
        "name": "python",
        "version": 3
      },
      "file_extension": ".py",
      "mimetype": "text/x-python",
      "name": "python",
      "nbconvert_exporter": "python",
      "pygments_lexer": "ipython3",
      "version": "3.8"
    },
    "kernelspec": {
      "name": "python",
      "display_name": "Python (Pyodide)",
      "language": "python"
    }
  },
  "nbformat_minor": 4,
  "nbformat": 4,
  "cells": [
    {
      "cell_type": "markdown",
      "source": "# DAY 5 FUNCTIONS",
      "metadata": {}
    },
    {
      "cell_type": "markdown",
      "source": "# Function uses two prnciples\n Abstraction : Bhoot hai but dikh nahi raha just like gravity\n \n Decomposition : Avangers heroes join together to battle against Thanos or multiple small screen to produce bigger picture\n",
      "metadata": {}
    },
    {
      "cell_type": "markdown",
      "source": "#components of Function",
      "metadata": {}
    },
    {
      "cell_type": "markdown",
      "source": "ef is_even(i):\n\n option docstring which tells about the function\n logic of the function\n return statement\n\nis_even() #calling a function",
      "metadata": {}
    },
    {
      "cell_type": "code",
      "source": "def is_even(num): #num here is called a parameter\n    if type(num) == int:\n        if num%2 == 0:\n            return 'even'\n        else:\n            return 'odd'\n    else:\n        return 'pagal hai kya'\n    #upgrade added\n\"\"\"\nThis function returns if a given number is even or odd.\nInput: any valid integer\nOutput: odd or even \ncreated on: 12.07.23\n\"\"\"",
      "metadata": {
        "trusted": true
      },
      "execution_count": 15,
      "outputs": [
        {
          "execution_count": 15,
          "output_type": "execute_result",
          "data": {
            "text/plain": "'\\nThis function returns if a given number is even or odd.\\nInput: any valid integer\\nOutput: odd or even \\ncreated on: 12.07.23\\n'"
          },
          "metadata": {}
        }
      ]
    },
    {
      "cell_type": "code",
      "source": "#function call\nfor i in range (1,11):\n    x=is_even(i) #when we send value then it is called argument\n    print (x)",
      "metadata": {
        "trusted": true
      },
      "execution_count": 16,
      "outputs": [
        {
          "name": "stdout",
          "text": "odd\neven\nodd\neven\nodd\neven\nodd\neven\nodd\neven\n",
          "output_type": "stream"
        }
      ]
    },
    {
      "cell_type": "markdown",
      "source": "#2 Point of Views",
      "metadata": {}
    },
    {
      "cell_type": "markdown",
      "source": "You have to make sure that the function should not give error.",
      "metadata": {}
    },
    {
      "cell_type": "markdown",
      "source": "# Types of Arguments ",
      "metadata": {}
    },
    {
      "cell_type": "markdown",
      "source": "1. Default Argument\n2. Positional Argument\n3. Keyword Argument",
      "metadata": {}
    },
    {
      "cell_type": "code",
      "source": "#Default argument is useful bcoz it gives deault values to parameter if user does not give value ",
      "metadata": {
        "trusted": true
      },
      "execution_count": 17,
      "outputs": []
    },
    {
      "cell_type": "code",
      "source": "def power(a=1,b=1):\n    return a**b",
      "metadata": {
        "trusted": true
      },
      "execution_count": 18,
      "outputs": []
    },
    {
      "cell_type": "code",
      "source": "power(2) #only 1 value is send instead of 2 valus a,b",
      "metadata": {
        "trusted": true
      },
      "execution_count": 19,
      "outputs": [
        {
          "execution_count": 19,
          "output_type": "execute_result",
          "data": {
            "text/plain": "2"
          },
          "metadata": {}
        }
      ]
    },
    {
      "cell_type": "markdown",
      "source": "#Positional Arguments",
      "metadata": {}
    },
    {
      "cell_type": "code",
      "source": "power(2,3)\n#python uses positional argument i.e follows the order it is send",
      "metadata": {
        "trusted": true
      },
      "execution_count": 23,
      "outputs": [
        {
          "execution_count": 23,
          "output_type": "execute_result",
          "data": {
            "text/plain": "8"
          },
          "metadata": {}
        }
      ]
    },
    {
      "cell_type": "code",
      "source": "#Keyword Argument",
      "metadata": {
        "trusted": true
      },
      "execution_count": 20,
      "outputs": []
    },
    {
      "cell_type": "code",
      "source": "power(b=3,a=2) #8 will be output bcoz we directly asign values to para meter",
      "metadata": {
        "trusted": true
      },
      "execution_count": 22,
      "outputs": [
        {
          "execution_count": 22,
          "output_type": "execute_result",
          "data": {
            "text/plain": "8"
          },
          "metadata": {}
        }
      ]
    },
    {
      "cell_type": "markdown",
      "source": "# *args and **kwargs",
      "metadata": {}
    },
    {
      "cell_type": "markdown",
      "source": " These are special python keywords that are used to pass the variable length of arguments to a function",
      "metadata": {}
    },
    {
      "cell_type": "code",
      "source": "#args \n#allows us to pass a variable number of non keyword arguments to a function\n#when we don't know how many input does a user will give\n\ndef multiply(*args): #you can also use *salman, *sahil anything\n    product=1\n    \n    for i in args:\n        product = product * i\n        print(args)\n        return product",
      "metadata": {
        "trusted": true
      },
      "execution_count": 39,
      "outputs": []
    },
    {
      "cell_type": "code",
      "source": "multiply(2,3,4,5,6)",
      "metadata": {
        "trusted": true
      },
      "execution_count": 40,
      "outputs": [
        {
          "name": "stdout",
          "text": "(2, 3, 4, 5, 6)\n",
          "output_type": "stream"
        },
        {
          "execution_count": 40,
          "output_type": "execute_result",
          "data": {
            "text/plain": "2"
          },
          "metadata": {}
        }
      ]
    },
    {
      "cell_type": "code",
      "source": "print(is_even.__doc__)\nprint(print.__doc__)\n#to access documentation of any function",
      "metadata": {
        "trusted": true
      },
      "execution_count": 45,
      "outputs": [
        {
          "name": "stdout",
          "text": "None\nPrints the values to a stream, or to sys.stdout by default.\n\n  sep\n    string inserted between values, default a space.\n  end\n    string appended after the last value, default a newline.\n  file\n    a file-like object (stream); defaults to the current sys.stdout.\n  flush\n    whether to forcibly flush the stream.\n",
          "output_type": "stream"
        }
      ]
    },
    {
      "cell_type": "markdown",
      "source": "# **kwargs",
      "metadata": {}
    },
    {
      "cell_type": "markdown",
      "source": "**kwargs allows us to pass any number of keyword arguments.\nkeyword arguments mean that they contain a key value pair just like Python dictionary",
      "metadata": {}
    },
    {
      "cell_type": "code",
      "source": "def display(**kwargs):\n    \n    for(key,value) in kwargs.items():\n        print(key,'->',value)",
      "metadata": {
        "trusted": true
      },
      "execution_count": 1,
      "outputs": []
    },
    {
      "cell_type": "code",
      "source": "display(india='delhi',shrilanka='columbo', nepal='katmandu')",
      "metadata": {
        "trusted": true
      },
      "execution_count": 2,
      "outputs": [
        {
          "name": "stdout",
          "text": "india -> delhi\nshrilanka -> columbo\nnepal -> katmandu\n",
          "output_type": "stream"
        }
      ]
    },
    {
      "cell_type": "markdown",
      "source": "# points to remember",
      "metadata": {}
    },
    {
      "cell_type": "raw",
      "source": "1. order of the argument matters(normal->*args->**kwargs)\n2. the words *args and **kwargs are only for conversation u can use any name of your choice ",
      "metadata": {}
    },
    {
      "cell_type": "raw",
      "source": "",
      "metadata": {}
    },
    {
      "cell_type": "markdown",
      "source": "# What hapens if the function is without return statement?",
      "metadata": {}
    },
    {
      "cell_type": "markdown",
      "source": "In Python, if the function does not have any return value then also\npython will by default return \"none\" value which will go to print statement\n(if print is present)",
      "metadata": {}
    },
    {
      "cell_type": "code",
      "source": "",
      "metadata": {},
      "execution_count": null,
      "outputs": []
    },
    {
      "cell_type": "markdown",
      "source": "# Nested Functions",
      "metadata": {}
    },
    {
      "cell_type": "code",
      "source": "def f():\n    def g():\n        print(\"inside function g\")\n        g() #first g() will be executed then f()\n    print(\"inside function f\")",
      "metadata": {
        "trusted": true
      },
      "execution_count": 9,
      "outputs": []
    },
    {
      "cell_type": "code",
      "source": "f()",
      "metadata": {
        "trusted": true
      },
      "execution_count": 11,
      "outputs": [
        {
          "name": "stdout",
          "text": "inside function g\ninside function f\n",
          "output_type": "stream"
        }
      ]
    },
    {
      "cell_type": "markdown",
      "source": "you cannot access nested function from main program \nlike if we call g() instead of f() then error will be printed",
      "metadata": {}
    },
    {
      "cell_type": "markdown",
      "source": "# first-class citizen",
      "metadata": {}
    },
    {
      "cell_type": "markdown",
      "source": "Any datatype on which we can perform all types of operations. eg tuples, functions(only in python bcoz function in python is a datatype)\nfuction is a mutable datatype\n\nif we put function inside set it will allow it hence function is mutable",
      "metadata": {}
    },
    {
      "cell_type": "code",
      "source": "",
      "metadata": {},
      "execution_count": null,
      "outputs": []
    },
    {
      "cell_type": "markdown",
      "source": "# Lambda Functions (imp)",
      "metadata": {}
    },
    {
      "cell_type": "markdown",
      "source": "A lambda function is a small anonymous function.\n\nA lambda function can take any number of arguments,but can only have one expression.\neg: lambda a,b: a+b",
      "metadata": {}
    },
    {
      "cell_type": "code",
      "source": "# x->x*2\n\na= lambda x:x**2 #you have to store lambda function in a variable\na(4) #calling lambda function",
      "metadata": {
        "trusted": true
      },
      "execution_count": 17,
      "outputs": [
        {
          "execution_count": 17,
          "output_type": "execute_result",
          "data": {
            "text/plain": "16"
          },
          "metadata": {}
        }
      ]
    },
    {
      "cell_type": "code",
      "source": "a=lambda x,y:x+y\na(3,2)",
      "metadata": {
        "trusted": true
      },
      "execution_count": 18,
      "outputs": [
        {
          "execution_count": 18,
          "output_type": "execute_result",
          "data": {
            "text/plain": "5"
          },
          "metadata": {}
        }
      ]
    },
    {
      "cell_type": "markdown",
      "source": "# Diff b/w lambda function & normal function",
      "metadata": {}
    },
    {
      "cell_type": "markdown",
      "source": "1. No name\n\n2. lambda has no return value(infact returns a function)\n\n3. lambda is written in 1 line\n\n4. not reusable",
      "metadata": {}
    },
    {
      "cell_type": "markdown",
      "source": "# then why we use lambda function?\nIt is used for HOF (High Order Function)",
      "metadata": {}
    },
    {
      "cell_type": "markdown",
      "source": "# Hgher Order Function\nA function which recieves a function as input or returns a function as output is HOF",
      "metadata": {}
    },
    {
      "cell_type": "markdown",
      "source": "# MAP",
      "metadata": {}
    },
    {
      "cell_type": "code",
      "source": "# it expects lists and lambda function\nlist(map(lambda x:x**2,[1,2,3,4,5]))\n#map is type casted to list",
      "metadata": {
        "trusted": true
      },
      "execution_count": 19,
      "outputs": [
        {
          "execution_count": 19,
          "output_type": "execute_result",
          "data": {
            "text/plain": "[1, 4, 9, 16, 25]"
          },
          "metadata": {}
        }
      ]
    },
    {
      "cell_type": "code",
      "source": "# odd/even labeling of list items\nL=[1,2,3,4,5]\nlist(map(lambda x:'even' if x%2== 0 else 'odd',L)) ",
      "metadata": {
        "trusted": true
      },
      "execution_count": 21,
      "outputs": [
        {
          "execution_count": 21,
          "output_type": "execute_result",
          "data": {
            "text/plain": "['odd', 'even', 'odd', 'even', 'odd']"
          },
          "metadata": {}
        }
      ]
    },
    {
      "cell_type": "markdown",
      "source": "# Filter",
      "metadata": {}
    },
    {
      "cell_type": "code",
      "source": "# retrn number greater than 5\nl=[1,2,4,5,6,7]\n\nlist(filter(lambda x:x>5,l)) #we have created alist having values greater than 5",
      "metadata": {
        "trusted": true
      },
      "execution_count": 26,
      "outputs": [
        {
          "execution_count": 26,
          "output_type": "execute_result",
          "data": {
            "text/plain": "[6, 7]"
          },
          "metadata": {}
        }
      ]
    },
    {
      "cell_type": "code",
      "source": "fruits=['apple','guava','cherry']\nlist(filter(lambda x:x.startswith('a'),fruits))",
      "metadata": {
        "trusted": true
      },
      "execution_count": 27,
      "outputs": [
        {
          "execution_count": 27,
          "output_type": "execute_result",
          "data": {
            "text/plain": "['apple']"
          },
          "metadata": {}
        }
      ]
    },
    {
      "cell_type": "markdown",
      "source": "# Reduce",
      "metadata": {}
    },
    {
      "cell_type": "code",
      "source": "import functools\n\n#sum of all items in alist\nfunctools.reduce(lambda x,y:x+y,[1,2,3,4,5])\n#it adds adjacent numbers",
      "metadata": {
        "trusted": true
      },
      "execution_count": 29,
      "outputs": [
        {
          "execution_count": 29,
          "output_type": "execute_result",
          "data": {
            "text/plain": "15"
          },
          "metadata": {}
        }
      ]
    },
    {
      "cell_type": "code",
      "source": "#min number\nfunctools.reduce(lambda x,y:x if x<y else y,[1,2,3,24,18,10])\n#it check adjacently",
      "metadata": {
        "trusted": true
      },
      "execution_count": 31,
      "outputs": [
        {
          "execution_count": 31,
          "output_type": "execute_result",
          "data": {
            "text/plain": "1"
          },
          "metadata": {}
        }
      ]
    },
    {
      "cell_type": "code",
      "source": "",
      "metadata": {},
      "execution_count": null,
      "outputs": []
    }
  ]
}